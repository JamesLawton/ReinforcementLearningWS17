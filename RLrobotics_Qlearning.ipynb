{
 "cells": [
  {
   "cell_type": "code",
   "execution_count": 7,
   "metadata": {
    "collapsed": false
   },
   "outputs": [],
   "source": [
    "def MassSpringDamp(state,t, f):\n",
    "    # unpack the state vector\n",
    "    x = state[0]\n",
    "    xd = state[1]\n",
    "    # these are our constants\n",
    "    k = 2.5 # Newtons per metre\n",
    "    m = 1.5 # Kilograms\n",
    "    c = 2\n",
    "#check out how to access args!\n",
    "    # compute acceleration xdd\n",
    "    xdd = (-k*x - xd*c)/m + f\n",
    "\n",
    "    # return the two state derivatives\n",
    "    return [xd, xdd]\n",
    "\n",
    "\n",
    "#-------------------------------------#\n",
    "def reward_func(position, goal):\n",
    "    #reward = np.exp(-(position-0.6)**2)\n",
    "    epsilon = 0.01\n",
    "    if(np.abs(position - goal) > epsilon):\n",
    "        reward = 1/((position-goal)**2)\n",
    "    else:\n",
    "        reward = 10000\n",
    "        \n",
    "    return reward\n",
    "\n",
    "\n",
    "def find_nearest(array,value):\n",
    "    idx = (np.abs(array-value)).argmin()\n",
    "    return idx"
   ]
  },
  {
   "cell_type": "code",
   "execution_count": 11,
   "metadata": {
    "collapsed": false
   },
   "outputs": [
    {
     "name": "stdout",
     "output_type": "stream",
     "text": [
      "#### ---- new eppoch:  0 ---- ####\n",
      "pos_state:  1.1\n",
      "next_state:  0\n",
      "run: 1\n",
      "------------\n",
      "force_delta:  -0.5\n",
      "force:  0\n",
      "reward:  2.77777777778\n",
      "position:  0.0\n",
      "\n",
      "\n",
      "pos_state:  0.0\n",
      "next_state:  0\n",
      "run: 2\n",
      "------------\n",
      "force_delta:  0.0\n",
      "force:  0\n",
      "reward:  2.77777777778\n",
      "position:  0.0\n",
      "\n",
      "\n",
      "pos_state:  0.0\n",
      "next_state:  0\n",
      "run: 3\n",
      "------------\n",
      "force_delta:  -1.0\n",
      "force:  0\n",
      "reward:  2.77777777778\n",
      "position:  0.0\n",
      "\n",
      "\n",
      "pos_state:  0.0\n",
      "next_state:  0\n",
      "run: 4\n",
      "------------\n",
      "force_delta:  -2.0\n",
      "force:  0\n",
      "reward:  2.77777777778\n",
      "position:  0.0\n",
      "\n",
      "\n",
      "pos_state:  0.0\n",
      "next_state:  3\n",
      "run: 5\n",
      "------------\n",
      "force_delta:  0.5\n",
      "force:  0.5\n",
      "reward:  11.1111111111\n",
      "position:  0.3\n",
      "\n",
      "\n",
      "pos_state:  0.3\n",
      "next_state:  0\n",
      "run: 6\n",
      "------------\n",
      "force_delta:  -2.0\n",
      "force:  0\n",
      "reward:  2.77777777778\n",
      "position:  0.0\n",
      "\n",
      "\n",
      "pos_state:  0.0\n",
      "next_state:  6\n",
      "run: 7\n",
      "------------\n",
      "force_delta:  1.0\n",
      "force:  1.0\n",
      "reward:  10000\n",
      "position:  0.6\n",
      "\n",
      "\n"
     ]
    }
   ],
   "source": [
    "from numpy import random\n",
    "from scipy.integrate import odeint\n",
    "import numpy as np\n",
    "\n",
    "import matplotlib.pyplot as plt\n",
    "%matplotlib inline\n",
    "epsilon = 0.9\n",
    "gamma = 0.9\n",
    "alpha = 0.1\n",
    "\n",
    "\n",
    "dforce = 0.5\n",
    "dpos = 0.1\n",
    "force_delta = np.arange(-2,2,dforce)\n",
    "position = np.arange(0,2,dpos)\n",
    "\n",
    "q = np.zeros((len(position), len(force_delta)))\n",
    "goal=0.6\n",
    "state_goal = find_nearest(position,goal)\n",
    "\n",
    "state0 = [0.0, 0.0]\n",
    "t = np.arange(0.0, 20.0, 1)\n",
    "\n",
    "steps_epoch = []\n",
    "numEpochs = 1\n",
    "\n",
    "#save position / force history\n",
    "position_history = []\n",
    "force_history = []\n",
    "\n",
    "#instead of force you have to apply delta_force, otherwise whole model does not make sense!\n",
    "for i in range(0,numEpochs):\n",
    "    state = np.where(position == random.choice(position))[0][0]\n",
    "    #state = random.choice(position)\n",
    "    count= 0\n",
    "    force = 0\n",
    "    print('#### ---- new eppoch: ', i, '---- ####')\n",
    "    while(round(state,1) != round(state_goal,1)):\n",
    "        prob = random.rand()\n",
    "        if(prob <= epsilon):\n",
    "            action = np.where(force_delta == random.choice(force_delta))[0][0]\n",
    "            #action = random.choice(force_delta)\n",
    "            force = force + force_delta[action]\n",
    "            force = min(force, 4)\n",
    "            force = max(0, force)\n",
    "\n",
    "        else:\n",
    "            action = np.argmax(q[state,:])\n",
    "            force = force + force_delta[action]\n",
    "            force = min(force, 4)\n",
    "            force = max(0, force)\n",
    "            \n",
    "        state0 = [position[state],0]\n",
    "        #temp = odeint(MassSpringDamp, state0, t, (action,))+random.rand()\n",
    "        temp = odeint(MassSpringDamp, state0, t, (force,))    \n",
    "        \n",
    "        next_state = find_nearest(position, round(temp[19,0],2))\n",
    "        reward = reward_func(position[next_state], goal)\n",
    "        q[state,action] = q[state, action]+ alpha * (reward + gamma*np.max(q[next_state,:]) - q[state, action])\n",
    "        state = next_state\n",
    "        count = count + 1\n",
    "        position_history.append(position[state])\n",
    "        force_history.append(force)\n",
    "        \n",
    "        #Print out some information\n",
    "        print('run:',count)\n",
    "        print('------------')\n",
    "        print('force_delta: ', force_delta[action])\n",
    "        print('force: ', force)\n",
    "        print('reward: ', reward)\n",
    "        print('position: ', position[state] )\n",
    "        print('\\n')\n",
    "    steps_epoch.append(count)"
   ]
  },
  {
   "cell_type": "code",
   "execution_count": 12,
   "metadata": {
    "collapsed": false
   },
   "outputs": [
    {
     "data": {
      "image/png": "[encoded data removed]",
      "text/plain": [
       "<matplotlib.figure.Figure at 0x1cd808377b8>"
      ]
     },
     "metadata": {},
     "output_type": "display_data"
    }
   ],
   "source": [
    "plt.plot(position_history, 'x', label='position')\n",
    "plt.plot(force_history, 'o', label='force')\n",
    "plt.legend()\n",
    "plt.show()"
   ]
  },
  {
   "cell_type": "code",
   "execution_count": 5,
   "metadata": {
    "collapsed": false
   },
   "outputs": [
    {
     "name": "stdout",
     "output_type": "stream",
     "text": [
      "0\n"
     ]
    }
   ],
   "source": [
    "force = 4\n",
    "state0=[0,0]\n",
    "result = odeint(MassSpringDamp, state0, t, (force,))\n",
    "plt.plot(t, result)\n",
    "plt.legend(['position', 'velocity'])\n",
    "print(result[9][0])"
   ]
  },
  {
   "cell_type": "code",
   "execution_count": 13,
   "metadata": {
    "collapsed": false
   },
   "outputs": [
    {
     "data": {
      "image/png": "[encoded data removed]",
      "text/plain": [
       "<matplotlib.figure.Figure at 0x1cd80872390>"
      ]
     },
     "metadata": {},
     "output_type": "display_data"
    },
    {
     "data": {
      "text/plain": [
       "<matplotlib.figure.Figure at 0x1cd80c9e6a0>"
      ]
     },
     "metadata": {},
     "output_type": "display_data"
    }
   ],
   "source": [
    "fig = plt.figure(figsize=(6, 6))\n",
    "plt.imshow(q, cmap='hot', interpolation='nearest')\n",
    "plt.colorbar()\n",
    "plt.figure(figsize=(3,4))\n",
    "plt.show()"
   ]
  }
 ],
 "metadata": {
  "anaconda-cloud": {},
  "kernelspec": {
   "display_name": "Python 3",
   "language": "python",
   "name": "python3"
  },
  "language_info": {
   "codemirror_mode": {
    "name": "ipython",
    "version": 3
   },
   "file_extension": ".py",
   "mimetype": "text/x-python",
   "name": "python",
   "nbconvert_exporter": "python",
   "pygments_lexer": "ipython3",
   "version": "3.5.2"
  }
 },
 "nbformat": 4,
 "nbformat_minor": 2
}
